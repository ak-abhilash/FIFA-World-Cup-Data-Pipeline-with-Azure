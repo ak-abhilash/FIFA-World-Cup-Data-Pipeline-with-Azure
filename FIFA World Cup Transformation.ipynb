{
 "cells": [
  {
   "cell_type": "code",
   "execution_count": null,
   "metadata": {
    "application/vnd.databricks.v1+cell": {
     "cellMetadata": {
      "byteLimit": 2048000,
      "rowLimit": 10000
     },
     "inputWidgets": {},
     "nuid": "2f921fb1-dce2-416e-865f-c13f2ec3959f",
     "showTitle": false,
     "title": ""
    }
   },
   "outputs": [],
   "source": [
    "from pyspark.sql.functions import col\n",
    "from pyspark.sql.functions import to_timestamp"
   ]
  },
  {
   "cell_type": "code",
   "execution_count": null,
   "metadata": {
    "application/vnd.databricks.v1+cell": {
     "cellMetadata": {
      "byteLimit": 2048000,
      "rowLimit": 10000
     },
     "inputWidgets": {},
     "nuid": "b210b8e8-8d91-47f1-ba11-32012eee5587",
     "showTitle": false,
     "title": ""
    }
   },
   "outputs": [
    {
     "data": {
      "text/plain": [
       "True"
      ]
     },
     "execution_count": 9,
     "metadata": {},
     "output_type": "execute_result"
    }
   ],
   "source": [
    "##Note: If you encounter an error while accessing or writing to the `raw-data` folder in the container, \n",
    "# make sure that the IAM role associated with this folder is granted the 'Storage Blob Data Contributor' access. \n",
    "# This role is necessary for reading, writing, and deleting blob data in Azure Storage.\n",
    "\n",
    "configs = {\n",
    "\"fs.azure.account.auth.type\": \"OAuth\",\n",
    "\"fs.azure.account.oauth.provider.type\": \"org.apache.hadoop.fs.azurebfs.oauth2.ClientCredsTokenProvider\",\n",
    "\"fs.azure.account.oauth2.client.id\": \"<Application (client) ID>\",\n",
    "\"fs.azure.account.oauth2.client.secret\": \"<Secret Key>\",\n",
    "\"fs.azure.account.oauth2.client.endpoint\": \"https://login.microsoftonline.com/<Directory (tenant) ID>/oauth2/token\"}\n",
    "\n",
    "dbutils.fs.mount(\n",
    "        source=\"abfss://fifa-world-cup-data@fifaworldcupabhilash.dfs.core.windows.net\",\n",
    "        mount_point=\"/mnt/fifaworldcup\",\n",
    "        extra_configs=configs\n",
    "    )"
   ]
  },
  {
   "cell_type": "code",
   "execution_count": null,
   "metadata": {
    "application/vnd.databricks.v1+cell": {
     "cellMetadata": {
      "byteLimit": 2048000,
      "rowLimit": 10000
     },
     "inputWidgets": {},
     "nuid": "5db2c6e0-ca08-4b4c-9724-afc34e9c4c42",
     "showTitle": false,
     "title": ""
    }
   },
   "outputs": [
    {
     "data": {
      "text/html": [
       "<style scoped>\n",
       "  .table-result-container {\n",
       "    max-height: 300px;\n",
       "    overflow: auto;\n",
       "  }\n",
       "  table, th, td {\n",
       "    border: 1px solid black;\n",
       "    border-collapse: collapse;\n",
       "  }\n",
       "  th, td {\n",
       "    padding: 5px;\n",
       "  }\n",
       "  th {\n",
       "    text-align: left;\n",
       "  }\n",
       "</style><div class='table-result-container'><table class='table-result'><thead style='background-color: white'><tr><th>path</th><th>name</th><th>size</th><th>modificationTime</th></tr></thead><tbody><tr><td>dbfs:/mnt/fifaworldcup/raw-data/</td><td>raw-data/</td><td>0</td><td>1725176572000</td></tr><tr><td>dbfs:/mnt/fifaworldcup/transformed-data/</td><td>transformed-data/</td><td>0</td><td>0</td></tr></tbody></table></div>"
      ]
     },
     "metadata": {
      "application/vnd.databricks.v1+output": {
       "addedWidgets": {},
       "aggData": [],
       "aggError": "",
       "aggOverflow": false,
       "aggSchema": [],
       "aggSeriesLimitReached": false,
       "aggType": "",
       "arguments": {},
       "columnCustomDisplayInfos": {},
       "data": [
        [
         "dbfs:/mnt/fifaworldcup/raw-data/",
         "raw-data/",
         0,
         1725176572000
        ],
        [
         "dbfs:/mnt/fifaworldcup/transformed-data/",
         "transformed-data/",
         0,
         0
        ]
       ],
       "datasetInfos": [],
       "dbfsResultPath": null,
       "isJsonSchema": true,
       "metadata": {
        "isDbfsCommandResult": false
       },
       "overflow": false,
       "plotOptions": {
        "customPlotOptions": {},
        "displayType": "table",
        "pivotAggregation": null,
        "pivotColumns": null,
        "xColumns": null,
        "yColumns": null
       },
       "removedWidgets": [],
       "schema": [
        {
         "metadata": "{}",
         "name": "path",
         "type": "\"string\""
        },
        {
         "metadata": "{}",
         "name": "name",
         "type": "\"string\""
        },
        {
         "metadata": "{}",
         "name": "size",
         "type": "\"long\""
        },
        {
         "metadata": "{}",
         "name": "modificationTime",
         "type": "\"long\""
        }
       ],
       "type": "table"
      }
     },
     "output_type": "display_data"
    }
   ],
   "source": [
    "%fs\n",
    "ls \"/mnt/fifaworldcup\""
   ]
  },
  {
   "cell_type": "code",
   "execution_count": null,
   "metadata": {
    "application/vnd.databricks.v1+cell": {
     "cellMetadata": {
      "byteLimit": 2048000,
      "rowLimit": 10000
     },
     "inputWidgets": {},
     "nuid": "3cd1f870-050d-4fb1-b237-2dae55b7c2c2",
     "showTitle": false,
     "title": ""
    }
   },
   "outputs": [
    {
     "data": {
      "text/html": [
       "\n",
       "            <div>\n",
       "                <p><b>SparkSession - hive</b></p>\n",
       "                \n",
       "        <div>\n",
       "            <p><b>SparkContext</b></p>\n",
       "\n",
       "            <p><a href=\"/?o=3353741094222280#setting/sparkui/0901-090438-filfng5f/driver-244038682089683100\">Spark UI</a></p>\n",
       "\n",
       "            <dl>\n",
       "              <dt>Version</dt>\n",
       "                <dd><code>v3.5.0</code></dd>\n",
       "              <dt>Master</dt>\n",
       "                <dd><code>local[*, 4]</code></dd>\n",
       "              <dt>AppName</dt>\n",
       "                <dd><code>Databricks Shell</code></dd>\n",
       "            </dl>\n",
       "        </div>\n",
       "        \n",
       "            </div>\n",
       "        "
      ],
      "text/plain": [
       "<pyspark.sql.session.SparkSession at 0x7f774d220af0>"
      ]
     },
     "execution_count": 11,
     "metadata": {},
     "output_type": "execute_result"
    }
   ],
   "source": [
    "spark"
   ]
  },
  {
   "cell_type": "code",
   "execution_count": null,
   "metadata": {
    "application/vnd.databricks.v1+cell": {
     "cellMetadata": {
      "byteLimit": 2048000,
      "rowLimit": 10000
     },
     "inputWidgets": {},
     "nuid": "9d41558f-bbaa-422f-af43-5a518b1dcbaf",
     "showTitle": false,
     "title": ""
    }
   },
   "outputs": [],
   "source": [
    "worldcup = spark.read.format(\"csv\").option(\"header\", \"true\").load(\"/mnt/fifaworldcup/raw-data/worldcup.csv\")\n",
    "worldcupmatches = spark.read.format(\"csv\").option(\"header\", \"true\").load(\"/mnt/fifaworldcup/raw-data/worldcupmatches.csv\")\n",
    "worldcupplayers = spark.read.format(\"csv\").option(\"header\", \"true\").load(\"/mnt/fifaworldcup/raw-data/worldcupplayers.csv\")"
   ]
  },
  {
   "cell_type": "code",
   "execution_count": null,
   "metadata": {
    "application/vnd.databricks.v1+cell": {
     "cellMetadata": {
      "byteLimit": 2048000,
      "rowLimit": 10000
     },
     "inputWidgets": {},
     "nuid": "a11fef44-90f9-4439-8601-904b6a777351",
     "showTitle": false,
     "title": ""
    }
   },
   "outputs": [
    {
     "name": "stdout",
     "output_type": "stream",
     "text": [
      "+----+-----------+----------+--------------+-------+----------+-----------+--------------+-------------+----------+\n",
      "|Year|    Country|    Winner|    Runners-Up|  Third|    Fourth|GoalsScored|QualifiedTeams|MatchesPlayed|Attendance|\n",
      "+----+-----------+----------+--------------+-------+----------+-----------+--------------+-------------+----------+\n",
      "|1930|    Uruguay|   Uruguay|     Argentina|    USA|Yugoslavia|         70|            13|           18|   590.549|\n",
      "|1934|      Italy|     Italy|Czechoslovakia|Germany|   Austria|         70|            16|           17|   363.000|\n",
      "|1938|     France|     Italy|       Hungary| Brazil|    Sweden|         84|            15|           18|   375.700|\n",
      "|1950|     Brazil|   Uruguay|        Brazil| Sweden|     Spain|         88|            13|           22| 1.045.246|\n",
      "|1954|Switzerland|Germany FR|       Hungary|Austria|   Uruguay|        140|            16|           26|   768.607|\n",
      "+----+-----------+----------+--------------+-------+----------+-----------+--------------+-------------+----------+\n",
      "only showing top 5 rows\n",
      "\n"
     ]
    }
   ],
   "source": [
    "worldcup.show(5)"
   ]
  },
  {
   "cell_type": "code",
   "execution_count": null,
   "metadata": {
    "application/vnd.databricks.v1+cell": {
     "cellMetadata": {
      "byteLimit": 2048000,
      "rowLimit": 10000
     },
     "inputWidgets": {},
     "nuid": "1bf2c86d-ad9e-4f2b-8a5c-a0664af48242",
     "showTitle": false,
     "title": ""
    }
   },
   "outputs": [
    {
     "name": "stdout",
     "output_type": "stream",
     "text": [
      "root\n",
      " |-- Year: string (nullable = true)\n",
      " |-- Country: string (nullable = true)\n",
      " |-- Winner: string (nullable = true)\n",
      " |-- Runners-Up: string (nullable = true)\n",
      " |-- Third: string (nullable = true)\n",
      " |-- Fourth: string (nullable = true)\n",
      " |-- GoalsScored: string (nullable = true)\n",
      " |-- QualifiedTeams: string (nullable = true)\n",
      " |-- MatchesPlayed: string (nullable = true)\n",
      " |-- Attendance: string (nullable = true)\n",
      "\n"
     ]
    }
   ],
   "source": [
    "worldcup.printSchema()"
   ]
  },
  {
   "cell_type": "code",
   "execution_count": null,
   "metadata": {
    "application/vnd.databricks.v1+cell": {
     "cellMetadata": {
      "byteLimit": 2048000,
      "rowLimit": 10000
     },
     "inputWidgets": {},
     "nuid": "243e9b06-e302-4e9e-bc8c-42caf4ca9a75",
     "showTitle": false,
     "title": ""
    }
   },
   "outputs": [],
   "source": [
    "worldcup = worldcup.withColumn(\"GoalsScored\", col(\"GoalsScored\").cast(\"integer\")) \\\n",
    "       .withColumn(\"QualifiedTeams\", col(\"QualifiedTeams\").cast(\"integer\")) \\\n",
    "        .withColumn(\"Year\", col(\"Year\").cast(\"integer\")) \\\n",
    "       .withColumn(\"MatchesPlayed\", col(\"MatchesPlayed\").cast(\"integer\")) \\\n",
    "       .withColumn(\"Attendance\", col(\"Attendance\").cast(\"integer\"))"
   ]
  },
  {
   "cell_type": "code",
   "execution_count": null,
   "metadata": {
    "application/vnd.databricks.v1+cell": {
     "cellMetadata": {
      "byteLimit": 2048000,
      "rowLimit": 10000
     },
     "inputWidgets": {},
     "nuid": "f47a0634-d738-4d48-8851-d66d34eb1e54",
     "showTitle": false,
     "title": ""
    }
   },
   "outputs": [
    {
     "name": "stdout",
     "output_type": "stream",
     "text": [
      "root\n",
      " |-- Year: integer (nullable = true)\n",
      " |-- Country: string (nullable = true)\n",
      " |-- Winner: string (nullable = true)\n",
      " |-- Runners-Up: string (nullable = true)\n",
      " |-- Third: string (nullable = true)\n",
      " |-- Fourth: string (nullable = true)\n",
      " |-- GoalsScored: integer (nullable = true)\n",
      " |-- QualifiedTeams: integer (nullable = true)\n",
      " |-- MatchesPlayed: integer (nullable = true)\n",
      " |-- Attendance: integer (nullable = true)\n",
      "\n"
     ]
    }
   ],
   "source": [
    "worldcup.printSchema()"
   ]
  },
  {
   "cell_type": "code",
   "execution_count": null,
   "metadata": {
    "application/vnd.databricks.v1+cell": {
     "cellMetadata": {
      "byteLimit": 2048000,
      "rowLimit": 10000
     },
     "inputWidgets": {},
     "nuid": "35723c18-4013-4cf5-ac2e-7c90d34a5cc6",
     "showTitle": false,
     "title": ""
    }
   },
   "outputs": [
    {
     "name": "stdout",
     "output_type": "stream",
     "text": [
      "+------------+----------+\n",
      "|     Country|TotalGoals|\n",
      "+------------+----------+\n",
      "|      Brazil|       259|\n",
      "|      France|       255|\n",
      "|     Germany|       244|\n",
      "|      Mexico|       227|\n",
      "|       Italy|       185|\n",
      "| Korea/Japan|       161|\n",
      "|       Spain|       146|\n",
      "|South Africa|       145|\n",
      "|         USA|       141|\n",
      "| Switzerland|       140|\n",
      "|      Sweden|       126|\n",
      "|   Argentina|       102|\n",
      "|     England|        89|\n",
      "|       Chile|        89|\n",
      "|     Uruguay|        70|\n",
      "+------------+----------+\n",
      "\n"
     ]
    }
   ],
   "source": [
    "df_goals_by_country = worldcup.groupBy(\"Country\").sum(\"GoalsScored\").withColumnRenamed(\"sum(GoalsScored)\", \"TotalGoals\").orderBy(col(\"TotalGoals\").desc()).show()\n"
   ]
  },
  {
   "cell_type": "code",
   "execution_count": null,
   "metadata": {
    "application/vnd.databricks.v1+cell": {
     "cellMetadata": {
      "byteLimit": 2048000,
      "rowLimit": 10000
     },
     "inputWidgets": {},
     "nuid": "a77efec8-64ce-4a62-b0ca-94e461ccce70",
     "showTitle": false,
     "title": ""
    }
   },
   "outputs": [
    {
     "name": "stdout",
     "output_type": "stream",
     "text": [
      "+----------+------------+\n",
      "|    Winner|NumberOfWins|\n",
      "+----------+------------+\n",
      "|    Brazil|           5|\n",
      "|     Italy|           4|\n",
      "|Germany FR|           3|\n",
      "+----------+------------+\n",
      "\n"
     ]
    }
   ],
   "source": [
    "worldcup_winners_count = worldcup.groupBy(\"Winner\").count().withColumnRenamed(\"count\", \"NumberOfWins\")\n",
    "top_3_countries = worldcup_winners_count.orderBy(col(\"NumberOfWins\").desc()).limit(3)\n",
    "top_3_countries.show()"
   ]
  },
  {
   "cell_type": "code",
   "execution_count": null,
   "metadata": {
    "application/vnd.databricks.v1+cell": {
     "cellMetadata": {
      "byteLimit": 2048000,
      "rowLimit": 10000
     },
     "inputWidgets": {},
     "nuid": "0d83c73e-5ea6-4a71-b162-f97649eeef26",
     "showTitle": false,
     "title": ""
    }
   },
   "outputs": [
    {
     "name": "stdout",
     "output_type": "stream",
     "text": [
      "+----+--------------------+-------+--------------+-----------+--------------+---------------+---------------+--------------+--------------+----------+--------------------+--------------------+--------------------+--------------------+--------------------+-------+-------+------------------+------------------+\n",
      "|Year|            Datetime|  Stage|       Stadium|       City|Home Team Name|Home Team Goals|Away Team Goals|Away Team Name|Win conditions|Attendance|Half-time Home Goals|Half-time Away Goals|             Referee|         Assistant 1|         Assistant 2|RoundID|MatchID|Home Team Initials|Away Team Initials|\n",
      "+----+--------------------+-------+--------------+-----------+--------------+---------------+---------------+--------------+--------------+----------+--------------------+--------------------+--------------------+--------------------+--------------------+-------+-------+------------------+------------------+\n",
      "|1930|13 Jul 1930 - 15:00 |Group 1|       Pocitos|Montevideo |        France|              4|              1|        Mexico|              |      4444|                   3|                   0|LOMBARDI Domingo ...|CRISTOPHE Henry (...| REGO Gilberto (BRA)|    201|   1096|               FRA|               MEX|\n",
      "|1930|13 Jul 1930 - 15:00 |Group 4|Parque Central|Montevideo |           USA|              3|              0|       Belgium|              |     18346|                   2|                   0|   MACIAS Jose (ARG)|MATEUCCI Francisc...|WARNKEN Alberto (...|    201|   1090|               USA|               BEL|\n",
      "|1930|14 Jul 1930 - 12:45 |Group 2|Parque Central|Montevideo |    Yugoslavia|              2|              1|        Brazil|              |     24059|                   2|                   0| TEJADA Anibal (URU)|VALLARINO Ricardo...| BALWAY Thomas (FRA)|    201|   1093|               YUG|               BRA|\n",
      "|1930|14 Jul 1930 - 14:50 |Group 3|       Pocitos|Montevideo |       Romania|              3|              1|          Peru|              |      2549|                   1|                   0|WARNKEN Alberto (...| LANGENUS Jean (BEL)|MATEUCCI Francisc...|    201|   1098|               ROU|               PER|\n",
      "|1930|15 Jul 1930 - 16:00 |Group 1|Parque Central|Montevideo |     Argentina|              1|              0|        France|              |     23409|                   0|                   0| REGO Gilberto (BRA)|SAUCEDO Ulises (BOL)|RADULESCU Constan...|    201|   1085|               ARG|               FRA|\n",
      "+----+--------------------+-------+--------------+-----------+--------------+---------------+---------------+--------------+--------------+----------+--------------------+--------------------+--------------------+--------------------+--------------------+-------+-------+------------------+------------------+\n",
      "only showing top 5 rows\n",
      "\n"
     ]
    }
   ],
   "source": [
    "worldcupmatches.show(5)"
   ]
  },
  {
   "cell_type": "code",
   "execution_count": null,
   "metadata": {
    "application/vnd.databricks.v1+cell": {
     "cellMetadata": {
      "byteLimit": 2048000,
      "rowLimit": 10000
     },
     "inputWidgets": {},
     "nuid": "723bc734-be73-4bb6-9d24-02ba7792f9b2",
     "showTitle": false,
     "title": ""
    }
   },
   "outputs": [
    {
     "name": "stdout",
     "output_type": "stream",
     "text": [
      "root\n",
      " |-- Year: string (nullable = true)\n",
      " |-- Datetime: string (nullable = true)\n",
      " |-- Stage: string (nullable = true)\n",
      " |-- Stadium: string (nullable = true)\n",
      " |-- City: string (nullable = true)\n",
      " |-- Home Team Name: string (nullable = true)\n",
      " |-- Home Team Goals: string (nullable = true)\n",
      " |-- Away Team Goals: string (nullable = true)\n",
      " |-- Away Team Name: string (nullable = true)\n",
      " |-- Win conditions: string (nullable = true)\n",
      " |-- Attendance: string (nullable = true)\n",
      " |-- Half-time Home Goals: string (nullable = true)\n",
      " |-- Half-time Away Goals: string (nullable = true)\n",
      " |-- Referee: string (nullable = true)\n",
      " |-- Assistant 1: string (nullable = true)\n",
      " |-- Assistant 2: string (nullable = true)\n",
      " |-- RoundID: string (nullable = true)\n",
      " |-- MatchID: string (nullable = true)\n",
      " |-- Home Team Initials: string (nullable = true)\n",
      " |-- Away Team Initials: string (nullable = true)\n",
      "\n"
     ]
    }
   ],
   "source": [
    "worldcupmatches.printSchema()"
   ]
  },
  {
   "cell_type": "code",
   "execution_count": null,
   "metadata": {
    "application/vnd.databricks.v1+cell": {
     "cellMetadata": {
      "byteLimit": 2048000,
      "rowLimit": 10000
     },
     "inputWidgets": {},
     "nuid": "f4a140f2-9ef8-4b70-92cc-5f0fb9b1db9c",
     "showTitle": false,
     "title": ""
    }
   },
   "outputs": [],
   "source": [
    "worldcupmatches = worldcupmatches.withColumn(\"Home Team Goals\", col(\"Home Team Goals\").cast(\"integer\")) \\\n",
    "        .withColumn(\"Year\", col(\"Year\").cast(\"integer\")) \\\n",
    "       .withColumn(\"Away Team Goals\", col(\"Away Team Goals\").cast(\"integer\")) \\\n",
    "       .withColumn(\"Attendance\", col(\"Attendance\").cast(\"integer\")) \\\n",
    "       .withColumn(\"Half-time Home Goals\", col(\"Half-time Home Goals\").cast(\"integer\")) \\\n",
    "       .withColumn(\"Half-time Away Goals\", col(\"Half-time Away Goals\").cast(\"integer\"))"
   ]
  },
  {
   "cell_type": "code",
   "execution_count": null,
   "metadata": {
    "application/vnd.databricks.v1+cell": {
     "cellMetadata": {
      "byteLimit": 2048000,
      "rowLimit": 10000
     },
     "inputWidgets": {},
     "nuid": "2f35a88c-ed93-48be-bdea-eaf84d0e187b",
     "showTitle": false,
     "title": ""
    }
   },
   "outputs": [
    {
     "name": "stdout",
     "output_type": "stream",
     "text": [
      "root\n",
      " |-- Year: integer (nullable = true)\n",
      " |-- Datetime: timestamp (nullable = true)\n",
      " |-- Stage: string (nullable = true)\n",
      " |-- Stadium: string (nullable = true)\n",
      " |-- City: string (nullable = true)\n",
      " |-- Home Team Name: string (nullable = true)\n",
      " |-- Home Team Goals: integer (nullable = true)\n",
      " |-- Away Team Goals: integer (nullable = true)\n",
      " |-- Away Team Name: string (nullable = true)\n",
      " |-- Win conditions: string (nullable = true)\n",
      " |-- Attendance: integer (nullable = true)\n",
      " |-- Half-time Home Goals: integer (nullable = true)\n",
      " |-- Half-time Away Goals: integer (nullable = true)\n",
      " |-- Referee: string (nullable = true)\n",
      " |-- Assistant 1: string (nullable = true)\n",
      " |-- Assistant 2: string (nullable = true)\n",
      " |-- RoundID: string (nullable = true)\n",
      " |-- MatchID: string (nullable = true)\n",
      " |-- Home Team Initials: string (nullable = true)\n",
      " |-- Away Team Initials: string (nullable = true)\n",
      "\n"
     ]
    }
   ],
   "source": [
    "worldcupmatches.printSchema()"
   ]
  },
  {
   "cell_type": "code",
   "execution_count": null,
   "metadata": {
    "application/vnd.databricks.v1+cell": {
     "cellMetadata": {
      "byteLimit": 2048000,
      "rowLimit": 10000
     },
     "inputWidgets": {},
     "nuid": "b8ad3ac9-11c8-424e-959c-4972ba546154",
     "showTitle": false,
     "title": ""
    }
   },
   "outputs": [],
   "source": [
    "worldcupmatches = worldcupmatches.withColumn(\"Datetime\", to_timestamp(col(\"Datetime\"), \"dd/MM/yyyy HH:mm\"))"
   ]
  },
  {
   "cell_type": "code",
   "execution_count": null,
   "metadata": {
    "application/vnd.databricks.v1+cell": {
     "cellMetadata": {
      "byteLimit": 2048000,
      "rowLimit": 10000
     },
     "inputWidgets": {},
     "nuid": "43fae77d-d814-4abe-907c-f405290d7ce4",
     "showTitle": false,
     "title": ""
    }
   },
   "outputs": [
    {
     "name": "stdout",
     "output_type": "stream",
     "text": [
      "+--------------+----------+\n",
      "|     Team Name|TotalGoals|\n",
      "+--------------+----------+\n",
      "|        Brazil|       225|\n",
      "|     Argentina|       133|\n",
      "|    Germany FR|       131|\n",
      "|         Italy|       128|\n",
      "|        France|       108|\n",
      "|       Germany|       104|\n",
      "|         Spain|        92|\n",
      "|   Netherlands|        91|\n",
      "|       Hungary|        87|\n",
      "|       Uruguay|        80|\n",
      "|       England|        79|\n",
      "|        Sweden|        74|\n",
      "|    Yugoslavia|        60|\n",
      "|        Mexico|        58|\n",
      "|       Belgium|        54|\n",
      "|  Soviet Union|        53|\n",
      "|   Switzerland|        45|\n",
      "|Czechoslovakia|        44|\n",
      "|        Poland|        44|\n",
      "|      Portugal|        43|\n",
      "+--------------+----------+\n",
      "only showing top 20 rows\n",
      "\n"
     ]
    }
   ],
   "source": [
    "home_goals = worldcupmatches.groupBy(\"Home Team Name\").sum(\"Home Team Goals\").withColumnRenamed(\"Home Team Name\", \"Team Name\").withColumnRenamed(\"sum(Home Team Goals)\", \"Goals\")\n",
    "away_goals = worldcupmatches.groupBy(\"Away Team Name\").sum(\"Away Team Goals\").withColumnRenamed(\"Away Team Name\", \"Team Name\").withColumnRenamed(\"sum(Away Team Goals)\", \"Goals\")\n",
    "\n",
    "combined_goals = home_goals.unionByName(away_goals)\n",
    "df_total_goals = combined_goals.groupBy(\"Team Name\").sum(\"Goals\").withColumnRenamed(\"sum(Goals)\", \"TotalGoals\").orderBy(col(\"TotalGoals\").desc())\n",
    "\n",
    "df_total_goals.show()"
   ]
  },
  {
   "cell_type": "code",
   "execution_count": null,
   "metadata": {
    "application/vnd.databricks.v1+cell": {
     "cellMetadata": {
      "byteLimit": 2048000,
      "rowLimit": 10000
     },
     "inputWidgets": {},
     "nuid": "ddf7c0ce-5654-4534-b628-15ef98b3ed66",
     "showTitle": false,
     "title": ""
    }
   },
   "outputs": [
    {
     "name": "stdout",
     "output_type": "stream",
     "text": [
      "+-------+-------+-------------+-------------------+-------+------------+----------------+--------+-----+\n",
      "|RoundID|MatchID|Team Initials|         Coach Name|Line-up|Shirt Number|     Player Name|Position|Event|\n",
      "+-------+-------+-------------+-------------------+-------+------------+----------------+--------+-----+\n",
      "|    201|   1096|          FRA|CAUDRON Raoul (FRA)|      S|           0|     Alex THEPOT|      GK| NULL|\n",
      "|    201|   1096|          MEX|   LUQUE Juan (MEX)|      S|           0| Oscar BONFIGLIO|      GK| NULL|\n",
      "|    201|   1096|          FRA|CAUDRON Raoul (FRA)|      S|           0|Marcel LANGILLER|    NULL| G40'|\n",
      "|    201|   1096|          MEX|   LUQUE Juan (MEX)|      S|           0|    Juan CARRENO|    NULL| G70'|\n",
      "|    201|   1096|          FRA|CAUDRON Raoul (FRA)|      S|           0| Ernest LIBERATI|    NULL| NULL|\n",
      "+-------+-------+-------------+-------------------+-------+------------+----------------+--------+-----+\n",
      "only showing top 5 rows\n",
      "\n"
     ]
    }
   ],
   "source": [
    "worldcupplayers.show(5)"
   ]
  },
  {
   "cell_type": "code",
   "execution_count": null,
   "metadata": {
    "application/vnd.databricks.v1+cell": {
     "cellMetadata": {
      "byteLimit": 2048000,
      "rowLimit": 10000
     },
     "inputWidgets": {},
     "nuid": "6cb981a4-f66c-448a-b682-fec5b917512e",
     "showTitle": false,
     "title": ""
    }
   },
   "outputs": [
    {
     "name": "stdout",
     "output_type": "stream",
     "text": [
      "root\n",
      " |-- RoundID: string (nullable = true)\n",
      " |-- MatchID: string (nullable = true)\n",
      " |-- Team Initials: string (nullable = true)\n",
      " |-- Coach Name: string (nullable = true)\n",
      " |-- Line-up: string (nullable = true)\n",
      " |-- Shirt Number: string (nullable = true)\n",
      " |-- Player Name: string (nullable = true)\n",
      " |-- Position: string (nullable = true)\n",
      " |-- Event: string (nullable = true)\n",
      "\n"
     ]
    }
   ],
   "source": [
    "worldcupplayers.printSchema()"
   ]
  },
  {
   "cell_type": "code",
   "execution_count": null,
   "metadata": {
    "application/vnd.databricks.v1+cell": {
     "cellMetadata": {
      "byteLimit": 2048000,
      "rowLimit": 10000
     },
     "inputWidgets": {},
     "nuid": "38023f7d-42ac-43e1-94f3-9e638809ad0f",
     "showTitle": false,
     "title": ""
    }
   },
   "outputs": [],
   "source": [
    "worldcupplayers = worldcupplayers.withColumn(\"RoundID\", col(\"RoundID\").cast(\"integer\")) \\\n",
    "       .withColumn(\"MatchID\", col(\"MatchID\").cast(\"integer\")) \\\n",
    "       .withColumn(\"Shirt Number\", col(\"Shirt Number\").cast(\"integer\")) \\\n",
    "       .withColumn(\"Shirt Number\", col(\"Shirt Number\").cast(\"integer\"))\n"
   ]
  },
  {
   "cell_type": "code",
   "execution_count": null,
   "metadata": {
    "application/vnd.databricks.v1+cell": {
     "cellMetadata": {
      "byteLimit": 2048000,
      "rowLimit": 10000
     },
     "inputWidgets": {},
     "nuid": "63c26208-4533-4a79-8799-d646b610c493",
     "showTitle": false,
     "title": ""
    }
   },
   "outputs": [
    {
     "name": "stdout",
     "output_type": "stream",
     "text": [
      "root\n",
      " |-- RoundID: integer (nullable = true)\n",
      " |-- MatchID: integer (nullable = true)\n",
      " |-- Team Initials: string (nullable = true)\n",
      " |-- Coach Name: string (nullable = true)\n",
      " |-- Line-up: string (nullable = true)\n",
      " |-- Shirt Number: integer (nullable = true)\n",
      " |-- Player Name: string (nullable = true)\n",
      " |-- Position: string (nullable = true)\n",
      " |-- Event: string (nullable = true)\n",
      "\n"
     ]
    }
   ],
   "source": [
    "worldcupplayers.printSchema()"
   ]
  },
  {
   "cell_type": "code",
   "execution_count": null,
   "metadata": {
    "application/vnd.databricks.v1+cell": {
     "cellMetadata": {
      "byteLimit": 2048000,
      "rowLimit": 10000
     },
     "inputWidgets": {},
     "nuid": "23585ce1-2e42-474d-9e16-584a50f2380a",
     "showTitle": false,
     "title": ""
    }
   },
   "outputs": [],
   "source": [
    "worldcup.repartition(1).write.mode(\"overwrite\").option(\"header\",'true').csv(\"/mnt/fifaworldcup/transformed-data/worldcup\")"
   ]
  },
  {
   "cell_type": "code",
   "execution_count": null,
   "metadata": {
    "application/vnd.databricks.v1+cell": {
     "cellMetadata": {
      "byteLimit": 2048000,
      "rowLimit": 10000
     },
     "inputWidgets": {},
     "nuid": "430ec0fb-4b01-4e0f-8deb-904dcd52c2ec",
     "showTitle": false,
     "title": ""
    }
   },
   "outputs": [],
   "source": [
    "worldcupmatches.repartition(1).write.mode(\"overwrite\").option(\"header\",'true').csv(\"/mnt/fifaworldcup/transformed-data/worldcupmatches\")\n",
    "worldcupplayers.repartition(1).write.mode(\"overwrite\").option(\"header\",'true').csv(\"/mnt/fifaworldcup/transformed-data/worldcupplayers\")\n"
   ]
  }
 ],
 "metadata": {
  "application/vnd.databricks.v1+notebook": {
   "dashboards": [],
   "environmentMetadata": {
    "base_environment": "",
    "client": "1"
   },
   "language": "python",
   "notebookMetadata": {
    "mostRecentlyExecutedCommandWithImplicitDF": {
     "commandId": 1381750392720774,
     "dataframes": [
      "_sqldf"
     ]
    },
    "pythonIndentUnit": 4
   },
   "notebookName": "FIFA World Cup Transformation",
   "widgets": {}
  },
  "language_info": {
   "name": "python"
  }
 },
 "nbformat": 4,
 "nbformat_minor": 0
}
